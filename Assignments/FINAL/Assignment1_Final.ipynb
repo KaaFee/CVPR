{
 "cells": [
  {
   "cell_type": "code",
   "execution_count": 1,
   "id": "dff17e70",
   "metadata": {},
   "outputs": [],
   "source": [
    "import tensorflow as tf\n",
    "from tensorflow.keras.datasets import cifar10\n",
    "from tensorflow.keras.models import Sequential\n",
    "from tensorflow.keras.layers import Conv2D, MaxPooling2D, Flatten, Dense, Dropout\n",
    "from tensorflow.keras.optimizers import SGD, Adam, RMSprop\n",
    "from tensorflow.keras import regularizers\n",
    "from tensorflow.keras.callbacks import EarlyStopping"
   ]
  },
  {
   "cell_type": "code",
   "execution_count": 2,
   "id": "5e470cc4",
   "metadata": {
    "scrolled": true
   },
   "outputs": [
    {
     "name": "stdout",
     "output_type": "stream",
     "text": [
      "Downloading data from https://www.cs.toronto.edu/~kriz/cifar-10-python.tar.gz\n",
      "170500096/170498071 [==============================] - 2905s 17us/step\n"
     ]
    }
   ],
   "source": [
    "(x_train, y_train), (x_test, y_test) = cifar10.load_data()"
   ]
  },
  {
   "cell_type": "code",
   "execution_count": 3,
   "id": "86c03d02",
   "metadata": {},
   "outputs": [],
   "source": [
    "x_train = x_train.astype('float32') / 255.0\n",
    "x_test = x_test.astype('float32') / 255.0"
   ]
  },
  {
   "cell_type": "code",
   "execution_count": 4,
   "id": "da08208c",
   "metadata": {},
   "outputs": [],
   "source": [
    "y_train = tf.keras.utils.to_categorical(y_train, num_classes=10)\n",
    "y_test = tf.keras.utils.to_categorical(y_test, num_classes=10)"
   ]
  },
  {
   "cell_type": "code",
   "execution_count": 5,
   "id": "e53d8ca9",
   "metadata": {},
   "outputs": [
    {
     "name": "stdout",
     "output_type": "stream",
     "text": [
      "Model: \"sequential\"\n",
      "_________________________________________________________________\n",
      "Layer (type)                 Output Shape              Param #   \n",
      "=================================================================\n",
      "conv2d (Conv2D)              (None, 32, 32, 32)        896       \n",
      "_________________________________________________________________\n",
      "conv2d_1 (Conv2D)            (None, 32, 32, 32)        9248      \n",
      "_________________________________________________________________\n",
      "max_pooling2d (MaxPooling2D) (None, 16, 16, 32)        0         \n",
      "_________________________________________________________________\n",
      "dropout (Dropout)            (None, 16, 16, 32)        0         \n",
      "_________________________________________________________________\n",
      "conv2d_2 (Conv2D)            (None, 16, 16, 64)        18496     \n",
      "_________________________________________________________________\n",
      "conv2d_3 (Conv2D)            (None, 16, 16, 64)        36928     \n",
      "_________________________________________________________________\n",
      "max_pooling2d_1 (MaxPooling2 (None, 8, 8, 64)          0         \n",
      "_________________________________________________________________\n",
      "dropout_1 (Dropout)          (None, 8, 8, 64)          0         \n",
      "_________________________________________________________________\n",
      "flatten (Flatten)            (None, 4096)              0         \n",
      "_________________________________________________________________\n",
      "dense (Dense)                (None, 128)               524416    \n",
      "_________________________________________________________________\n",
      "dropout_2 (Dropout)          (None, 128)               0         \n",
      "_________________________________________________________________\n",
      "dense_1 (Dense)              (None, 10)                1290      \n",
      "=================================================================\n",
      "Total params: 591,274\n",
      "Trainable params: 591,274\n",
      "Non-trainable params: 0\n",
      "_________________________________________________________________\n"
     ]
    }
   ],
   "source": [
    "model = Sequential()\n",
    "model.add(Conv2D(32, (3, 3), activation='relu', padding='same', input_shape=(32, 32, 3)))\n",
    "model.add(Conv2D(32, (3, 3), activation='relu', padding='same', kernel_regularizer=regularizers.l2(0.001)))\n",
    "model.add(MaxPooling2D(pool_size=(2, 2)))\n",
    "model.add(Dropout(0.25))\n",
    "model.add(Conv2D(64, (3, 3), activation='relu', padding='same', kernel_regularizer=regularizers.l2(0.001)))\n",
    "model.add(Conv2D(64, (3, 3), activation='relu', padding='same', kernel_regularizer=regularizers.l2(0.001)))\n",
    "model.add(MaxPooling2D(pool_size=(2, 2)))\n",
    "model.add(Dropout(0.25))\n",
    "model.add(Flatten())\n",
    "model.add(Dense(128, activation='relu'))\n",
    "model.add(Dropout(0.5))\n",
    "model.add(Dense(10, activation='softmax'))\n",
    "model.summary()"
   ]
  },
  {
   "cell_type": "code",
   "execution_count": 6,
   "id": "75c4d590",
   "metadata": {},
   "outputs": [],
   "source": [
    "early_stopping = EarlyStopping(monitor='val_loss', patience=3)"
   ]
  },
  {
   "cell_type": "code",
   "execution_count": 7,
   "id": "4627250c",
   "metadata": {},
   "outputs": [
    {
     "name": "stdout",
     "output_type": "stream",
     "text": [
      "Epoch 1/20\n",
      "782/782 [==============================] - 145s 185ms/step - loss: 2.3163 - accuracy: 0.1886 - val_loss: 2.1180 - val_accuracy: 0.2770\n",
      "Epoch 2/20\n",
      "782/782 [==============================] - 143s 183ms/step - loss: 2.1090 - accuracy: 0.2824 - val_loss: 1.9546 - val_accuracy: 0.3695\n",
      "Epoch 3/20\n",
      "782/782 [==============================] - 153s 196ms/step - loss: 1.9588 - accuracy: 0.3403 - val_loss: 1.8212 - val_accuracy: 0.4097\n",
      "Epoch 4/20\n",
      "782/782 [==============================] - 146s 187ms/step - loss: 1.8495 - accuracy: 0.3792 - val_loss: 1.7802 - val_accuracy: 0.4084\n",
      "Epoch 5/20\n",
      "782/782 [==============================] - 145s 185ms/step - loss: 1.7679 - accuracy: 0.4086 - val_loss: 1.6183 - val_accuracy: 0.4695\n",
      "Epoch 6/20\n",
      "782/782 [==============================] - 145s 185ms/step - loss: 1.6895 - accuracy: 0.4333 - val_loss: 1.6424 - val_accuracy: 0.4523\n",
      "Epoch 7/20\n",
      "782/782 [==============================] - 144s 184ms/step - loss: 1.6197 - accuracy: 0.4583 - val_loss: 1.5738 - val_accuracy: 0.4724\n",
      "Epoch 8/20\n",
      "782/782 [==============================] - 144s 184ms/step - loss: 1.5686 - accuracy: 0.4771 - val_loss: 1.6172 - val_accuracy: 0.4685\n",
      "Epoch 9/20\n",
      "782/782 [==============================] - 145s 185ms/step - loss: 1.5188 - accuracy: 0.4940 - val_loss: 1.4361 - val_accuracy: 0.5253\n",
      "Epoch 10/20\n",
      "782/782 [==============================] - 144s 185ms/step - loss: 1.4778 - accuracy: 0.5118 - val_loss: 1.4801 - val_accuracy: 0.5217\n",
      "Epoch 11/20\n",
      "782/782 [==============================] - 143s 183ms/step - loss: 1.4379 - accuracy: 0.5226 - val_loss: 1.3722 - val_accuracy: 0.5613\n",
      "Epoch 12/20\n",
      "782/782 [==============================] - 142s 182ms/step - loss: 1.4026 - accuracy: 0.5374 - val_loss: 1.3020 - val_accuracy: 0.5717\n",
      "Epoch 13/20\n",
      "782/782 [==============================] - 142s 182ms/step - loss: 1.3685 - accuracy: 0.5475 - val_loss: 1.3594 - val_accuracy: 0.5533\n",
      "Epoch 14/20\n",
      "782/782 [==============================] - 142s 182ms/step - loss: 1.3424 - accuracy: 0.5598 - val_loss: 1.6129 - val_accuracy: 0.4671\n",
      "Epoch 15/20\n",
      "782/782 [==============================] - 142s 182ms/step - loss: 1.3092 - accuracy: 0.5718 - val_loss: 1.2843 - val_accuracy: 0.5816\n",
      "Epoch 16/20\n",
      "782/782 [==============================] - 142s 182ms/step - loss: 1.2847 - accuracy: 0.5797 - val_loss: 1.1532 - val_accuracy: 0.6268\n",
      "Epoch 17/20\n",
      "782/782 [==============================] - 142s 182ms/step - loss: 1.2562 - accuracy: 0.5912 - val_loss: 1.1621 - val_accuracy: 0.6236\n",
      "Epoch 18/20\n",
      "782/782 [==============================] - 142s 182ms/step - loss: 1.2294 - accuracy: 0.6009 - val_loss: 1.1359 - val_accuracy: 0.6375\n",
      "Epoch 19/20\n",
      "782/782 [==============================] - 142s 182ms/step - loss: 1.2071 - accuracy: 0.6077 - val_loss: 1.1070 - val_accuracy: 0.6502\n",
      "Epoch 20/20\n",
      "782/782 [==============================] - 143s 182ms/step - loss: 1.1850 - accuracy: 0.6146 - val_loss: 1.0830 - val_accuracy: 0.6505\n",
      "Epoch 1/20\n",
      "782/782 [==============================] - 145s 185ms/step - loss: 1.2434 - accuracy: 0.5905 - val_loss: 1.0230 - val_accuracy: 0.6763\n",
      "Epoch 2/20\n",
      "782/782 [==============================] - 144s 184ms/step - loss: 1.0856 - accuracy: 0.6475 - val_loss: 0.9267 - val_accuracy: 0.7054\n",
      "Epoch 3/20\n",
      "782/782 [==============================] - 143s 183ms/step - loss: 1.0043 - accuracy: 0.6776 - val_loss: 0.9784 - val_accuracy: 0.6946\n",
      "Epoch 4/20\n",
      "782/782 [==============================] - 142s 182ms/step - loss: 0.9524 - accuracy: 0.6993 - val_loss: 0.8880 - val_accuracy: 0.7279\n",
      "Epoch 5/20\n",
      "782/782 [==============================] - 144s 184ms/step - loss: 0.9054 - accuracy: 0.7172 - val_loss: 0.8591 - val_accuracy: 0.7360\n",
      "Epoch 6/20\n",
      "782/782 [==============================] - 144s 184ms/step - loss: 0.8736 - accuracy: 0.7290 - val_loss: 0.8763 - val_accuracy: 0.7326\n",
      "Epoch 7/20\n",
      "782/782 [==============================] - 144s 184ms/step - loss: 0.8423 - accuracy: 0.7416 - val_loss: 0.8247 - val_accuracy: 0.7492\n",
      "Epoch 8/20\n",
      "782/782 [==============================] - 145s 185ms/step - loss: 0.8238 - accuracy: 0.7494 - val_loss: 0.8138 - val_accuracy: 0.7551\n",
      "Epoch 9/20\n",
      "782/782 [==============================] - 144s 184ms/step - loss: 0.8020 - accuracy: 0.7549 - val_loss: 0.7713 - val_accuracy: 0.7685\n",
      "Epoch 10/20\n",
      "782/782 [==============================] - 147s 188ms/step - loss: 0.7913 - accuracy: 0.7614 - val_loss: 0.7641 - val_accuracy: 0.7738\n",
      "Epoch 11/20\n",
      "782/782 [==============================] - 143s 183ms/step - loss: 0.7655 - accuracy: 0.7696 - val_loss: 0.7514 - val_accuracy: 0.7784\n",
      "Epoch 12/20\n",
      "782/782 [==============================] - 144s 184ms/step - loss: 0.7568 - accuracy: 0.7718 - val_loss: 0.8257 - val_accuracy: 0.7594\n",
      "Epoch 13/20\n",
      "782/782 [==============================] - 143s 183ms/step - loss: 0.7470 - accuracy: 0.7766 - val_loss: 0.7706 - val_accuracy: 0.7741\n",
      "Epoch 14/20\n",
      "782/782 [==============================] - 144s 184ms/step - loss: 0.7306 - accuracy: 0.7849 - val_loss: 0.7629 - val_accuracy: 0.7796\n",
      "Epoch 1/20\n",
      "782/782 [==============================] - 147s 188ms/step - loss: 0.7518 - accuracy: 0.7777 - val_loss: 0.9637 - val_accuracy: 0.7217\n",
      "Epoch 2/20\n",
      "782/782 [==============================] - 147s 187ms/step - loss: 0.7597 - accuracy: 0.7725 - val_loss: 1.2869 - val_accuracy: 0.6722\n",
      "Epoch 3/20\n",
      "782/782 [==============================] - 146s 187ms/step - loss: 0.7694 - accuracy: 0.7748 - val_loss: 0.8061 - val_accuracy: 0.7644\n",
      "Epoch 4/20\n",
      "782/782 [==============================] - 147s 188ms/step - loss: 0.7973 - accuracy: 0.7674 - val_loss: 1.0403 - val_accuracy: 0.7344\n",
      "Epoch 5/20\n",
      "782/782 [==============================] - 147s 187ms/step - loss: 0.8275 - accuracy: 0.7609 - val_loss: 0.8259 - val_accuracy: 0.7662\n",
      "Epoch 6/20\n",
      "782/782 [==============================] - 147s 188ms/step - loss: 0.8509 - accuracy: 0.7575 - val_loss: 0.7771 - val_accuracy: 0.7790\n",
      "Epoch 7/20\n",
      "782/782 [==============================] - 147s 188ms/step - loss: 0.8635 - accuracy: 0.7522 - val_loss: 0.9455 - val_accuracy: 0.7379\n",
      "Epoch 8/20\n",
      "782/782 [==============================] - 147s 188ms/step - loss: 0.8691 - accuracy: 0.7535 - val_loss: 0.9599 - val_accuracy: 0.7470\n",
      "Epoch 9/20\n",
      "782/782 [==============================] - 147s 188ms/step - loss: 0.8852 - accuracy: 0.7531 - val_loss: 0.8292 - val_accuracy: 0.7686\n"
     ]
    }
   ],
   "source": [
    "model.compile(optimizer='sgd', loss='categorical_crossentropy', metrics=['accuracy'])\n",
    "sgdHistory = model.fit(x_train, y_train, batch_size=64, epochs=20, validation_data=(x_test, y_test), callbacks=[early_stopping], verbose=1)\n",
    "\n",
    "model.compile(optimizer='adam', loss='categorical_crossentropy', metrics=['accuracy'])\n",
    "adamHistory = model.fit(x_train, y_train, batch_size=64, epochs=20, validation_data=(x_test, y_test), callbacks=[early_stopping], verbose=1)\n",
    "\n",
    "model.compile(optimizer='rmsprop', loss='categorical_crossentropy', metrics=['accuracy'])\n",
    "rmspropHistory = model.fit(x_train, y_train, batch_size=64, epochs=20, validation_data=(x_test, y_test), callbacks=[early_stopping], verbose=1)\n"
   ]
  },
  {
   "cell_type": "code",
   "execution_count": 8,
   "id": "0ef73848",
   "metadata": {},
   "outputs": [
    {
     "data": {
      "image/png": "[encoded data removed]",
      "text/plain": [
       "<Figure size 640x480 with 1 Axes>"
      ]
     },
     "metadata": {},
     "output_type": "display_data"
    }
   ],
   "source": [
    "import matplotlib.pyplot as plt\n",
    "\n",
    "plt.plot(sgdHistory.history['accuracy'], label='SGD')\n",
    "plt.plot(adamHistory.history['accuracy'], label='ADAM')\n",
    "plt.plot(rmspropHistory.history['accuracy'], label='RMSPROP')\n",
    "plt.xlabel('Epoch')\n",
    "plt.ylabel('Accuracy')\n",
    "plt.legend()\n",
    "plt.show()"
   ]
  },
  {
   "cell_type": "code",
   "execution_count": null,
   "id": "164762d1",
   "metadata": {},
   "outputs": [],
   "source": []
  }
 ],
 "metadata": {
  "kernelspec": {
   "display_name": "fourthenv tf2.4 py3.8",
   "language": "python",
   "name": "fourthenv"
  },
  "language_info": {
   "codemirror_mode": {
    "name": "ipython",
    "version": 3
   },
   "file_extension": ".py",
   "mimetype": "text/x-python",
   "name": "python",
   "nbconvert_exporter": "python",
   "pygments_lexer": "ipython3",
   "version": "3.8.17"
  }
 },
 "nbformat": 4,
 "nbformat_minor": 5
}
